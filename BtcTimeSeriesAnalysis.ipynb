{
 "cells": [
  {
   "cell_type": "code",
   "execution_count": 371,
   "metadata": {},
   "outputs": [],
   "source": [
    "import pandas as pd\n",
    "import seaborn as sns\n",
    "import statsmodels as sm\n",
    "import warnings\n",
    "import seaborn as sns\n",
    "warnings.filterwarnings('ignore')"
   ]
  },
  {
   "cell_type": "code",
   "execution_count": 380,
   "metadata": {},
   "outputs": [],
   "source": [
    "df = pd.read_csv('../datasets/BTCHISTORICAL.csv')\n",
    "df['Date'] = pd.to_datetime(df['Date'])\n",
    "df['Low'] = df['Low'].str.replace(',','')\n",
    "df['Low'] = pd.to_numeric(df['Low'])"
   ]
  },
  {
   "cell_type": "code",
   "execution_count": 381,
   "metadata": {},
   "outputs": [
    {
     "data": {
      "text/html": [
       "<div>\n",
       "<style scoped>\n",
       "    .dataframe tbody tr th:only-of-type {\n",
       "        vertical-align: middle;\n",
       "    }\n",
       "\n",
       "    .dataframe tbody tr th {\n",
       "        vertical-align: top;\n",
       "    }\n",
       "\n",
       "    .dataframe thead th {\n",
       "        text-align: right;\n",
       "    }\n",
       "</style>\n",
       "<table border=\"1\" class=\"dataframe\">\n",
       "  <thead>\n",
       "    <tr style=\"text-align: right;\">\n",
       "      <th></th>\n",
       "      <th>Date</th>\n",
       "      <th>Price</th>\n",
       "      <th>Open</th>\n",
       "      <th>High</th>\n",
       "      <th>Low</th>\n",
       "      <th>Vol.</th>\n",
       "      <th>Change %</th>\n",
       "    </tr>\n",
       "  </thead>\n",
       "  <tbody>\n",
       "    <tr>\n",
       "      <th>0</th>\n",
       "      <td>2019-08-20</td>\n",
       "      <td>10,728.8</td>\n",
       "      <td>10,911.2</td>\n",
       "      <td>10,941.6</td>\n",
       "      <td>10581.0</td>\n",
       "      <td>530.49K</td>\n",
       "      <td>-1.67%</td>\n",
       "    </tr>\n",
       "    <tr>\n",
       "      <th>1</th>\n",
       "      <td>2019-08-19</td>\n",
       "      <td>10,910.7</td>\n",
       "      <td>10,312.8</td>\n",
       "      <td>10,923.9</td>\n",
       "      <td>10267.8</td>\n",
       "      <td>519.01K</td>\n",
       "      <td>5.80%</td>\n",
       "    </tr>\n",
       "    <tr>\n",
       "      <th>2</th>\n",
       "      <td>2019-08-18</td>\n",
       "      <td>10,312.7</td>\n",
       "      <td>10,219.3</td>\n",
       "      <td>10,494.9</td>\n",
       "      <td>10086.7</td>\n",
       "      <td>441.11K</td>\n",
       "      <td>0.93%</td>\n",
       "    </tr>\n",
       "    <tr>\n",
       "      <th>3</th>\n",
       "      <td>2019-08-17</td>\n",
       "      <td>10,218.1</td>\n",
       "      <td>10,335.5</td>\n",
       "      <td>10,460.7</td>\n",
       "      <td>10016.3</td>\n",
       "      <td>497.77K</td>\n",
       "      <td>-1.14%</td>\n",
       "    </tr>\n",
       "    <tr>\n",
       "      <th>4</th>\n",
       "      <td>2019-08-16</td>\n",
       "      <td>10,335.6</td>\n",
       "      <td>10,300.9</td>\n",
       "      <td>10,734.0</td>\n",
       "      <td>9788.6</td>\n",
       "      <td>798.67K</td>\n",
       "      <td>0.31%</td>\n",
       "    </tr>\n",
       "  </tbody>\n",
       "</table>\n",
       "</div>"
      ],
      "text/plain": [
       "        Date     Price      Open      High      Low     Vol. Change %\n",
       "0 2019-08-20  10,728.8  10,911.2  10,941.6  10581.0  530.49K   -1.67%\n",
       "1 2019-08-19  10,910.7  10,312.8  10,923.9  10267.8  519.01K    5.80%\n",
       "2 2019-08-18  10,312.7  10,219.3  10,494.9  10086.7  441.11K    0.93%\n",
       "3 2019-08-17  10,218.1  10,335.5  10,460.7  10016.3  497.77K   -1.14%\n",
       "4 2019-08-16  10,335.6  10,300.9  10,734.0   9788.6  798.67K    0.31%"
      ]
     },
     "execution_count": 381,
     "metadata": {},
     "output_type": "execute_result"
    }
   ],
   "source": [
    "df.head()"
   ]
  },
  {
   "cell_type": "code",
   "execution_count": 382,
   "metadata": {},
   "outputs": [
    {
     "name": "stdout",
     "output_type": "stream",
     "text": [
      "<class 'pandas.core.frame.DataFrame'>\n",
      "RangeIndex: 1858 entries, 0 to 1857\n",
      "Data columns (total 7 columns):\n",
      "Date        1858 non-null datetime64[ns]\n",
      "Price       1858 non-null object\n",
      "Open        1858 non-null object\n",
      "High        1858 non-null object\n",
      "Low         1858 non-null float64\n",
      "Vol.        1858 non-null object\n",
      "Change %    1858 non-null object\n",
      "dtypes: datetime64[ns](1), float64(1), object(5)\n",
      "memory usage: 101.7+ KB\n"
     ]
    }
   ],
   "source": [
    "df.info()"
   ]
  },
  {
   "cell_type": "code",
   "execution_count": 383,
   "metadata": {},
   "outputs": [
    {
     "data": {
      "text/html": [
       "<div>\n",
       "<style scoped>\n",
       "    .dataframe tbody tr th:only-of-type {\n",
       "        vertical-align: middle;\n",
       "    }\n",
       "\n",
       "    .dataframe tbody tr th {\n",
       "        vertical-align: top;\n",
       "    }\n",
       "\n",
       "    .dataframe thead th {\n",
       "        text-align: right;\n",
       "    }\n",
       "</style>\n",
       "<table border=\"1\" class=\"dataframe\">\n",
       "  <thead>\n",
       "    <tr style=\"text-align: right;\">\n",
       "      <th></th>\n",
       "      <th>Low</th>\n",
       "    </tr>\n",
       "  </thead>\n",
       "  <tbody>\n",
       "    <tr>\n",
       "      <th>count</th>\n",
       "      <td>1858.000000</td>\n",
       "    </tr>\n",
       "    <tr>\n",
       "      <th>mean</th>\n",
       "      <td>3181.552960</td>\n",
       "    </tr>\n",
       "    <tr>\n",
       "      <th>std</th>\n",
       "      <td>3624.915519</td>\n",
       "    </tr>\n",
       "    <tr>\n",
       "      <th>min</th>\n",
       "      <td>157.300000</td>\n",
       "    </tr>\n",
       "    <tr>\n",
       "      <th>25%</th>\n",
       "      <td>387.925000</td>\n",
       "    </tr>\n",
       "    <tr>\n",
       "      <th>50%</th>\n",
       "      <td>948.100000</td>\n",
       "    </tr>\n",
       "    <tr>\n",
       "      <th>75%</th>\n",
       "      <td>6090.300000</td>\n",
       "    </tr>\n",
       "    <tr>\n",
       "      <th>max</th>\n",
       "      <td>18750.900000</td>\n",
       "    </tr>\n",
       "  </tbody>\n",
       "</table>\n",
       "</div>"
      ],
      "text/plain": [
       "                Low\n",
       "count   1858.000000\n",
       "mean    3181.552960\n",
       "std     3624.915519\n",
       "min      157.300000\n",
       "25%      387.925000\n",
       "50%      948.100000\n",
       "75%     6090.300000\n",
       "max    18750.900000"
      ]
     },
     "execution_count": 383,
     "metadata": {},
     "output_type": "execute_result"
    }
   ],
   "source": [
    "df.describe()"
   ]
  },
  {
   "cell_type": "code",
   "execution_count": 384,
   "metadata": {},
   "outputs": [],
   "source": [
    "df = df.iloc[::-1]"
   ]
  },
  {
   "cell_type": "code",
   "execution_count": 385,
   "metadata": {},
   "outputs": [],
   "source": [
    "df = df[(df['Date'] > '2018-06-01')]"
   ]
  },
  {
   "cell_type": "code",
   "execution_count": 386,
   "metadata": {},
   "outputs": [
    {
     "data": {
      "text/html": [
       "<div>\n",
       "<style scoped>\n",
       "    .dataframe tbody tr th:only-of-type {\n",
       "        vertical-align: middle;\n",
       "    }\n",
       "\n",
       "    .dataframe tbody tr th {\n",
       "        vertical-align: top;\n",
       "    }\n",
       "\n",
       "    .dataframe thead th {\n",
       "        text-align: right;\n",
       "    }\n",
       "</style>\n",
       "<table border=\"1\" class=\"dataframe\">\n",
       "  <thead>\n",
       "    <tr style=\"text-align: right;\">\n",
       "      <th></th>\n",
       "      <th>Date</th>\n",
       "      <th>Low</th>\n",
       "    </tr>\n",
       "  </thead>\n",
       "  <tbody>\n",
       "    <tr>\n",
       "      <th>444</th>\n",
       "      <td>2018-06-02</td>\n",
       "      <td>7467.9</td>\n",
       "    </tr>\n",
       "    <tr>\n",
       "      <th>443</th>\n",
       "      <td>2018-06-03</td>\n",
       "      <td>7611.3</td>\n",
       "    </tr>\n",
       "    <tr>\n",
       "      <th>442</th>\n",
       "      <td>2018-06-04</td>\n",
       "      <td>7468.4</td>\n",
       "    </tr>\n",
       "    <tr>\n",
       "      <th>441</th>\n",
       "      <td>2018-06-05</td>\n",
       "      <td>7391.0</td>\n",
       "    </tr>\n",
       "    <tr>\n",
       "      <th>440</th>\n",
       "      <td>2018-06-06</td>\n",
       "      <td>7504.4</td>\n",
       "    </tr>\n",
       "  </tbody>\n",
       "</table>\n",
       "</div>"
      ],
      "text/plain": [
       "          Date     Low\n",
       "444 2018-06-02  7467.9\n",
       "443 2018-06-03  7611.3\n",
       "442 2018-06-04  7468.4\n",
       "441 2018-06-05  7391.0\n",
       "440 2018-06-06  7504.4"
      ]
     },
     "execution_count": 386,
     "metadata": {},
     "output_type": "execute_result"
    }
   ],
   "source": [
    "df_low = df[['Date', 'Low']]\n",
    "df_low.head()"
   ]
  },
  {
   "cell_type": "code",
   "execution_count": 387,
   "metadata": {},
   "outputs": [
    {
     "data": {
      "image/png": "[encoded data removed]",
      "text/plain": [
       "<Figure size 432x288 with 1 Axes>"
      ]
     },
     "metadata": {
      "needs_background": "light"
     },
     "output_type": "display_data"
    }
   ],
   "source": [
    "graph = sns.lineplot(x='Date', y='Low', data=df_low)"
   ]
  },
  {
   "cell_type": "markdown",
   "metadata": {},
   "source": [
    "## Split on train and test"
   ]
  },
  {
   "cell_type": "code",
   "execution_count": 388,
   "metadata": {},
   "outputs": [],
   "source": [
    "df_low_train = df_low[(df_low['Date'] < '2019-08-15')]\n",
    "df_low_test = df_low[(df_low['Date'] > '2019-08-15')]"
   ]
  },
  {
   "cell_type": "markdown",
   "metadata": {},
   "source": [
    "## Stationary"
   ]
  },
  {
   "cell_type": "code",
   "execution_count": 389,
   "metadata": {},
   "outputs": [
    {
     "data": {
      "text/plain": [
       "(-0.6210024479588934,\n",
       " 0.8661653663099198,\n",
       " 15,\n",
       " 423,\n",
       " {'1%': -3.4459042013025836,\n",
       "  '5%': -2.8683970525583358,\n",
       "  '10%': -2.5704225783970176},\n",
       " 5777.0750236492495)"
      ]
     },
     "execution_count": 389,
     "metadata": {},
     "output_type": "execute_result"
    }
   ],
   "source": [
    "from statsmodels.tsa.stattools import adfuller\n",
    "df.dropna(inplace=True)\n",
    "adfuller(df_low_train['Low'])"
   ]
  },
  {
   "cell_type": "code",
   "execution_count": 390,
   "metadata": {},
   "outputs": [],
   "source": [
    "df_low_train['LowDiff'] = df_low_train['Low'] - df_low_train['Low'].shift(1)\n",
    "df_low_train.dropna(inplace=True)"
   ]
  },
  {
   "cell_type": "code",
   "execution_count": 391,
   "metadata": {},
   "outputs": [
    {
     "data": {
      "image/png": "[encoded data removed]",
      "text/plain": [
       "<Figure size 432x288 with 1 Axes>"
      ]
     },
     "metadata": {
      "needs_background": "light"
     },
     "output_type": "display_data"
    }
   ],
   "source": [
    "g = sns.lineplot(x='Date', y='LowDiff', data = df_low_train)"
   ]
  },
  {
   "cell_type": "code",
   "execution_count": 392,
   "metadata": {},
   "outputs": [
    {
     "data": {
      "text/plain": [
       "(-5.255433813122537,\n",
       " 6.767953862578064e-06,\n",
       " 14,\n",
       " 423,\n",
       " {'1%': -3.4459042013025836,\n",
       "  '5%': -2.8683970525583358,\n",
       "  '10%': -2.5704225783970176},\n",
       " 5762.142019750931)"
      ]
     },
     "execution_count": 392,
     "metadata": {},
     "output_type": "execute_result"
    }
   ],
   "source": [
    "adfuller(df_low_train['LowDiff'])"
   ]
  },
  {
   "cell_type": "code",
   "execution_count": 393,
   "metadata": {},
   "outputs": [
    {
     "data": {
      "image/png": "[encoded data removed]",
      "text/plain": [
       "<Figure size 432x288 with 1 Axes>"
      ]
     },
     "metadata": {
      "needs_background": "light"
     },
     "output_type": "display_data"
    }
   ],
   "source": [
    "from statsmodels.graphics.tsaplots import plot_acf\n",
    "from matplotlib import pyplot as plt\n",
    "\n",
    "plot_acf(df_low_train['LowDiff'])\n",
    "plt.show()\n",
    "#start value for q is 20"
   ]
  },
  {
   "cell_type": "code",
   "execution_count": 394,
   "metadata": {},
   "outputs": [
    {
     "data": {
      "image/png": "[encoded data removed]",
      "text/plain": [
       "<Figure size 432x288 with 1 Axes>"
      ]
     },
     "metadata": {
      "needs_background": "light"
     },
     "output_type": "display_data"
    }
   ],
   "source": [
    "from statsmodels.graphics.tsaplots import plot_pacf\n",
    "\n",
    "plot_pacf(df_low_train['LowDiff'])\n",
    "plt.show()\n",
    "#start value for p is 20"
   ]
  },
  {
   "cell_type": "code",
   "execution_count": 395,
   "metadata": {},
   "outputs": [
    {
     "name": "stdout",
     "output_type": "stream",
     "text": [
      "6037.1184648319795\n",
      "6017.385722039826\n",
      "6014.153756289921\n",
      "6035.693300012541\n",
      "6018.637740076967\n",
      "6009.906521719056\n",
      "6037.596373825263\n",
      "6010.937509795907\n",
      "6036.38588251647\n",
      "6012.3782321807785\n",
      "6037.541390949356\n",
      "6038.631869060864\n",
      "6036.247569790676\n",
      "6018.2926172342595\n",
      "6009.549195287797\n",
      "6037.655482978411\n",
      "6019.216199341032\n",
      "6010.540485479127\n",
      "6007.166667459229\n",
      "6011.620540189113\n",
      "6010.2571874942505\n",
      "6006.264321295676\n",
      "6003.647936999534\n",
      "6037.345398049696\n",
      "6018.568417695275\n",
      "6009.879103358033\n",
      "6038.199726170249\n",
      "6009.8918210187185\n",
      "6012.743950851107\n",
      "6008.851730897941\n",
      "6011.960520974792\n",
      "6010.510525211673\n",
      "6037.153453757979\n",
      "6020.412121418933\n",
      "6011.307452127407\n",
      "6038.634442148299\n",
      "6021.903889702453\n",
      "6013.213883816038\n",
      "6035.573188788978\n",
      "6010.8509754466395\n",
      "6005.610805878986\n",
      "6012.362898810623\n",
      "6011.031316539916\n",
      "6040.022602513709\n",
      "6022.346421681545\n",
      "6013.143501648287\n",
      "6040.917753842326\n",
      "6024.662562798312\n",
      "6014.981245791112\n",
      "6031.594741719744\n",
      "nan\n",
      "6003.992867126559\n",
      "6031.102826661892\n",
      "6008.240413749263\n",
      "6041.183100319524\n",
      "6023.033865644109\n",
      "6060.195328775542\n",
      "6042.658157782254\n",
      "nan\n",
      "6016.456568524964\n",
      "6045.202228627551\n",
      "6013.94041696788\n",
      "6011.795405614218\n",
      "6027.112033205596\n",
      "nan\n",
      "nan\n",
      "6023.298732354637\n"
     ]
    }
   ],
   "source": [
    "#No need in building SARIMA model, because we don't have seasonal activity\n",
    "from statsmodels.tsa.arima_model import ARIMA\n",
    "best_aic = 1000000\n",
    "best_arima = None\n",
    "for p in range(1, 7):\n",
    "    for q in range(1, 7):\n",
    "        for d in range(0, 3):\n",
    "            try:\n",
    "                arima = ARIMA(df_low_train['Low'], order=(p,d,q)) #no need if differentiation, because our serie is stationary already\n",
    "                arima_fit = arima.fit(disp=0)\n",
    "                print(arima_fit.aic)\n",
    "                if best_aic > arima_fit.aic:\n",
    "                    best_arima = arima_fit\n",
    "                    best_aic = arima_fit.aic\n",
    "            except ValueError:\n",
    "                continue\n",
    "\n"
   ]
  },
  {
   "cell_type": "code",
   "execution_count": 269,
   "metadata": {},
   "outputs": [
    {
     "name": "stdout",
     "output_type": "stream",
     "text": [
      "[0.87909555 0.98556762 0.99822728 0.86740166 0.66926232 0.78062303\n",
      " 0.43200665 0.25306921 0.29691029 0.35209499 0.3393405  0.22744207\n",
      " 0.21405878 0.20027042 0.20831248 0.25974557 0.31835186 0.36664844\n",
      " 0.33544851 0.36675961 0.30338967 0.35743667 0.34187509 0.39426895\n",
      " 0.37851868 0.43284819 0.46132286 0.34824278 0.34397648 0.38837098\n",
      " 0.43763164 0.4866057  0.48281677 0.50688093 0.55016613 0.59037391\n",
      " 0.62837604 0.67187962 0.71164069 0.74674441]\n"
     ]
    }
   ],
   "source": [
    "from statsmodels.stats.diagnostic import acorr_ljungbox\n",
    "\n",
    "lb = acorr_ljungbox(best_arima.resid)\n",
    "print(lb[1])\n",
    "##Pretty big values means, that model took almost all data, which is good"
   ]
  },
  {
   "cell_type": "code",
   "execution_count": 396,
   "metadata": {},
   "outputs": [
    {
     "data": {
      "text/plain": [
       "6003.647936999534"
      ]
     },
     "execution_count": 396,
     "metadata": {},
     "output_type": "execute_result"
    }
   ],
   "source": [
    "best_arima.aic"
   ]
  },
  {
   "cell_type": "code",
   "execution_count": 397,
   "metadata": {},
   "outputs": [
    {
     "data": {
      "text/html": [
       "<table class=\"simpletable\">\n",
       "<caption>ARIMA Model Results</caption>\n",
       "<tr>\n",
       "  <th>Dep. Variable:</th>      <td>D2.Low</td>      <th>  No. Observations:  </th>    <td>436</td>   \n",
       "</tr>\n",
       "<tr>\n",
       "  <th>Model:</th>          <td>ARIMA(2, 2, 6)</td>  <th>  Log Likelihood     </th> <td>-2991.824</td>\n",
       "</tr>\n",
       "<tr>\n",
       "  <th>Method:</th>             <td>css-mle</td>     <th>  S.D. of innovations</th>  <td>229.378</td> \n",
       "</tr>\n",
       "<tr>\n",
       "  <th>Date:</th>          <td>Tue, 20 Aug 2019</td> <th>  AIC                </th> <td>6003.648</td> \n",
       "</tr>\n",
       "<tr>\n",
       "  <th>Time:</th>              <td>19:05:45</td>     <th>  BIC                </th> <td>6044.424</td> \n",
       "</tr>\n",
       "<tr>\n",
       "  <th>Sample:</th>                <td>2</td>        <th>  HQIC               </th> <td>6019.740</td> \n",
       "</tr>\n",
       "<tr>\n",
       "  <th></th>                       <td> </td>        <th>                     </th>     <td> </td>    \n",
       "</tr>\n",
       "</table>\n",
       "<table class=\"simpletable\">\n",
       "<tr>\n",
       "        <td></td>          <th>coef</th>     <th>std err</th>      <th>z</th>      <th>P>|z|</th>  <th>[0.025</th>    <th>0.975]</th>  \n",
       "</tr>\n",
       "<tr>\n",
       "  <th>const</th>        <td>    0.1532</td> <td>    0.104</td> <td>    1.474</td> <td> 0.141</td> <td>   -0.050</td> <td>    0.357</td>\n",
       "</tr>\n",
       "<tr>\n",
       "  <th>ar.L1.D2.Low</th> <td>    1.1492</td> <td>    0.040</td> <td>   28.378</td> <td> 0.000</td> <td>    1.070</td> <td>    1.229</td>\n",
       "</tr>\n",
       "<tr>\n",
       "  <th>ar.L2.D2.Low</th> <td>   -0.8872</td> <td>    0.060</td> <td>  -14.792</td> <td> 0.000</td> <td>   -1.005</td> <td>   -0.770</td>\n",
       "</tr>\n",
       "<tr>\n",
       "  <th>ma.L1.D2.Low</th> <td>   -1.9982</td> <td>    0.064</td> <td>  -31.109</td> <td> 0.000</td> <td>   -2.124</td> <td>   -1.872</td>\n",
       "</tr>\n",
       "<tr>\n",
       "  <th>ma.L2.D2.Low</th> <td>    1.6205</td> <td>    0.141</td> <td>   11.473</td> <td> 0.000</td> <td>    1.344</td> <td>    1.897</td>\n",
       "</tr>\n",
       "<tr>\n",
       "  <th>ma.L3.D2.Low</th> <td>   -0.3321</td> <td>    0.141</td> <td>   -2.349</td> <td> 0.019</td> <td>   -0.609</td> <td>   -0.055</td>\n",
       "</tr>\n",
       "<tr>\n",
       "  <th>ma.L4.D2.Low</th> <td>   -0.3335</td> <td>    0.128</td> <td>   -2.615</td> <td> 0.009</td> <td>   -0.583</td> <td>   -0.084</td>\n",
       "</tr>\n",
       "<tr>\n",
       "  <th>ma.L5.D2.Low</th> <td>    0.0553</td> <td>    0.118</td> <td>    0.468</td> <td> 0.640</td> <td>   -0.176</td> <td>    0.287</td>\n",
       "</tr>\n",
       "<tr>\n",
       "  <th>ma.L6.D2.Low</th> <td>   -0.0118</td> <td>    0.058</td> <td>   -0.203</td> <td> 0.839</td> <td>   -0.126</td> <td>    0.102</td>\n",
       "</tr>\n",
       "</table>\n",
       "<table class=\"simpletable\">\n",
       "<caption>Roots</caption>\n",
       "<tr>\n",
       "    <td></td>   <th>            Real</th>  <th>         Imaginary</th> <th>         Modulus</th>  <th>        Frequency</th>\n",
       "</tr>\n",
       "<tr>\n",
       "  <th>AR.1</th> <td>           0.6477</td> <td>          -0.8412j</td> <td>           1.0617</td> <td>          -0.1456</td>\n",
       "</tr>\n",
       "<tr>\n",
       "  <th>AR.2</th> <td>           0.6477</td> <td>          +0.8412j</td> <td>           1.0617</td> <td>           0.1456</td>\n",
       "</tr>\n",
       "<tr>\n",
       "  <th>MA.1</th> <td>           1.0001</td> <td>          -0.0000j</td> <td>           1.0001</td> <td>          -0.0000</td>\n",
       "</tr>\n",
       "<tr>\n",
       "  <th>MA.2</th> <td>           0.6476</td> <td>          -0.7860j</td> <td>           1.0185</td> <td>          -0.1403</td>\n",
       "</tr>\n",
       "<tr>\n",
       "  <th>MA.3</th> <td>           0.6476</td> <td>          +0.7860j</td> <td>           1.0185</td> <td>           0.1403</td>\n",
       "</tr>\n",
       "<tr>\n",
       "  <th>MA.4</th> <td>          -2.5000</td> <td>          -0.0000j</td> <td>           2.5000</td> <td>          -0.5000</td>\n",
       "</tr>\n",
       "<tr>\n",
       "  <th>MA.5</th> <td>           2.4425</td> <td>          -5.1648j</td> <td>           5.7132</td> <td>          -0.1797</td>\n",
       "</tr>\n",
       "<tr>\n",
       "  <th>MA.6</th> <td>           2.4425</td> <td>          +5.1648j</td> <td>           5.7132</td> <td>           0.1797</td>\n",
       "</tr>\n",
       "</table>"
      ],
      "text/plain": [
       "<class 'statsmodels.iolib.summary.Summary'>\n",
       "\"\"\"\n",
       "                             ARIMA Model Results                              \n",
       "==============================================================================\n",
       "Dep. Variable:                 D2.Low   No. Observations:                  436\n",
       "Model:                 ARIMA(2, 2, 6)   Log Likelihood               -2991.824\n",
       "Method:                       css-mle   S.D. of innovations            229.378\n",
       "Date:                Tue, 20 Aug 2019   AIC                           6003.648\n",
       "Time:                        19:05:45   BIC                           6044.424\n",
       "Sample:                             2   HQIC                          6019.740\n",
       "                                                                              \n",
       "================================================================================\n",
       "                   coef    std err          z      P>|z|      [0.025      0.975]\n",
       "--------------------------------------------------------------------------------\n",
       "const            0.1532      0.104      1.474      0.141      -0.050       0.357\n",
       "ar.L1.D2.Low     1.1492      0.040     28.378      0.000       1.070       1.229\n",
       "ar.L2.D2.Low    -0.8872      0.060    -14.792      0.000      -1.005      -0.770\n",
       "ma.L1.D2.Low    -1.9982      0.064    -31.109      0.000      -2.124      -1.872\n",
       "ma.L2.D2.Low     1.6205      0.141     11.473      0.000       1.344       1.897\n",
       "ma.L3.D2.Low    -0.3321      0.141     -2.349      0.019      -0.609      -0.055\n",
       "ma.L4.D2.Low    -0.3335      0.128     -2.615      0.009      -0.583      -0.084\n",
       "ma.L5.D2.Low     0.0553      0.118      0.468      0.640      -0.176       0.287\n",
       "ma.L6.D2.Low    -0.0118      0.058     -0.203      0.839      -0.126       0.102\n",
       "                                    Roots                                    \n",
       "=============================================================================\n",
       "                  Real          Imaginary           Modulus         Frequency\n",
       "-----------------------------------------------------------------------------\n",
       "AR.1            0.6477           -0.8412j            1.0617           -0.1456\n",
       "AR.2            0.6477           +0.8412j            1.0617            0.1456\n",
       "MA.1            1.0001           -0.0000j            1.0001           -0.0000\n",
       "MA.2            0.6476           -0.7860j            1.0185           -0.1403\n",
       "MA.3            0.6476           +0.7860j            1.0185            0.1403\n",
       "MA.4           -2.5000           -0.0000j            2.5000           -0.5000\n",
       "MA.5            2.4425           -5.1648j            5.7132           -0.1797\n",
       "MA.6            2.4425           +5.1648j            5.7132            0.1797\n",
       "-----------------------------------------------------------------------------\n",
       "\"\"\""
      ]
     },
     "execution_count": 397,
     "metadata": {},
     "output_type": "execute_result"
    }
   ],
   "source": [
    "best_arima.summary()"
   ]
  },
  {
   "cell_type": "code",
   "execution_count": 398,
   "metadata": {},
   "outputs": [
    {
     "data": {
      "text/plain": [
       "array([9877.19592283, 9859.888828  , 9739.76597792, 9674.93068709,\n",
       "       9764.96006384])"
      ]
     },
     "execution_count": 398,
     "metadata": {},
     "output_type": "execute_result"
    }
   ],
   "source": [
    "f = best_arima.forecast(len(df_low_test.values))[0]\n",
    "f"
   ]
  },
  {
   "cell_type": "code",
   "execution_count": 399,
   "metadata": {},
   "outputs": [
    {
     "data": {
      "text/html": [
       "<div>\n",
       "<style scoped>\n",
       "    .dataframe tbody tr th:only-of-type {\n",
       "        vertical-align: middle;\n",
       "    }\n",
       "\n",
       "    .dataframe tbody tr th {\n",
       "        vertical-align: top;\n",
       "    }\n",
       "\n",
       "    .dataframe thead th {\n",
       "        text-align: right;\n",
       "    }\n",
       "</style>\n",
       "<table border=\"1\" class=\"dataframe\">\n",
       "  <thead>\n",
       "    <tr style=\"text-align: right;\">\n",
       "      <th></th>\n",
       "      <th>Date</th>\n",
       "      <th>Low</th>\n",
       "    </tr>\n",
       "  </thead>\n",
       "  <tbody>\n",
       "    <tr>\n",
       "      <th>4</th>\n",
       "      <td>2019-08-16</td>\n",
       "      <td>9788.6</td>\n",
       "    </tr>\n",
       "    <tr>\n",
       "      <th>3</th>\n",
       "      <td>2019-08-17</td>\n",
       "      <td>10016.3</td>\n",
       "    </tr>\n",
       "    <tr>\n",
       "      <th>2</th>\n",
       "      <td>2019-08-18</td>\n",
       "      <td>10086.7</td>\n",
       "    </tr>\n",
       "    <tr>\n",
       "      <th>1</th>\n",
       "      <td>2019-08-19</td>\n",
       "      <td>10267.8</td>\n",
       "    </tr>\n",
       "    <tr>\n",
       "      <th>0</th>\n",
       "      <td>2019-08-20</td>\n",
       "      <td>10581.0</td>\n",
       "    </tr>\n",
       "  </tbody>\n",
       "</table>\n",
       "</div>"
      ],
      "text/plain": [
       "        Date      Low\n",
       "4 2019-08-16   9788.6\n",
       "3 2019-08-17  10016.3\n",
       "2 2019-08-18  10086.7\n",
       "1 2019-08-19  10267.8\n",
       "0 2019-08-20  10581.0"
      ]
     },
     "execution_count": 399,
     "metadata": {},
     "output_type": "execute_result"
    }
   ],
   "source": [
    "df_low_test"
   ]
  },
  {
   "cell_type": "code",
   "execution_count": 400,
   "metadata": {},
   "outputs": [],
   "source": [
    "def inverse_difference(history, yhat, interval=1):\n",
    "\treturn yhat + history"
   ]
  },
  {
   "cell_type": "code",
   "execution_count": 406,
   "metadata": {},
   "outputs": [
    {
     "data": {
      "text/plain": [
       "441      0.153170\n",
       "440    -23.086149\n",
       "439   -118.996446\n",
       "438   -140.407011\n",
       "437     49.729319\n",
       "          ...    \n",
       "10    -225.112823\n",
       "9      509.471885\n",
       "8      289.296485\n",
       "7       16.792884\n",
       "6      455.237916\n",
       "Length: 436, dtype: float64"
      ]
     },
     "execution_count": 406,
     "metadata": {},
     "output_type": "execute_result"
    }
   ],
   "source": [
    "pr = best_arima.predict()\n",
    "pr"
   ]
  },
  {
   "cell_type": "code",
   "execution_count": 404,
   "metadata": {},
   "outputs": [
    {
     "data": {
      "text/plain": [
       "438"
      ]
     },
     "execution_count": 404,
     "metadata": {},
     "output_type": "execute_result"
    }
   ],
   "source": [
    "len(df_low_train)"
   ]
  },
  {
   "cell_type": "code",
   "execution_count": 407,
   "metadata": {},
   "outputs": [],
   "source": [
    "pr_undiff = []\n",
    "for i in range(len(pr)):\n",
    "    pr_undiff.append(inverse_difference(df_low_train['Low'][441-i], pr[441-i]))"
   ]
  },
  {
   "cell_type": "code",
   "execution_count": 409,
   "metadata": {},
   "outputs": [],
   "source": [
    "pr_undiff.append(df_low_train['Low'][7])\n",
    "pr_undiff.append(df_low_train['Low'][6])"
   ]
  },
  {
   "cell_type": "code",
   "execution_count": 410,
   "metadata": {},
   "outputs": [],
   "source": [
    "pr_undiff.reverse()"
   ]
  },
  {
   "cell_type": "code",
   "execution_count": 411,
   "metadata": {},
   "outputs": [
    {
     "data": {
      "text/plain": [
       "[9965.5,\n",
       " 10793.2,\n",
       " 10420.737916123993,\n",
       " 10809.992883846111,\n",
       " 11556.596485179942,\n",
       " 11655.571884929985,\n",
       " 11056.487177124402,\n",
       " 11564.25189841639,\n",
       " 11619.078004478524,\n",
       " 11270.820844847569,\n",
       " 11114.197536838437,\n",
       " 10989.776389844135,\n",
       " 10378.43504815143,\n",
       " 10024.825469127112,\n",
       " 9992.023749469026,\n",
       " 9865.910334876831,\n",
       " 9698.288462152703,\n",
       " 9536.578644253163,\n",
       " 9603.727731727584,\n",
       " 9653.61130306537,\n",
       " 9285.795546177384,\n",
       " 9503.244448939013,\n",
       " 10063.753766702017,\n",
       " 10002.05003312477,\n",
       " 10213.166341208864,\n",
       " 10294.77166240545,\n",
       " 10149.551751741117,\n",
       " 9789.294854968663,\n",
       " 9928.937898177051,\n",
       " 9690.517817045182,\n",
       " 9490.698615447749,\n",
       " 9608.13831261471,\n",
       " 10486.162282170582,\n",
       " 10344.843212059193,\n",
       " 10863.549440662082,\n",
       " 11733.600659295449,\n",
       " 11417.918137305087,\n",
       " 10945.701429526995,\n",
       " 12008.4995038097,\n",
       " 11231.343515529568,\n",
       " 11040.407018763493,\n",
       " 11220.148808159316,\n",
       " 10488.578781761595,\n",
       " 10260.560686913946,\n",
       " 11239.265584410567,\n",
       " 10414.491171709398,\n",
       " 10536.654939450189,\n",
       " 10155.626865324824,\n",
       " 11291.856148111863,\n",
       " 12070.720397764513,\n",
       " 9995.284225156647,\n",
       " 11546.802203829913,\n",
       " 10996.560979226433,\n",
       " 10124.842066101712,\n",
       " 10073.423062532425,\n",
       " 9765.723501884242,\n",
       " 9462.298304034088,\n",
       " 9227.045150216112,\n",
       " 9095.75042623018,\n",
       " 8823.679050612396,\n",
       " 8749.626379620699,\n",
       " 8412.984175339405,\n",
       " 8501.568320496417,\n",
       " 8043.3934539872,\n",
       " 8017.740116628828,\n",
       " 7685.563861283497,\n",
       " 7721.529888491849,\n",
       " 7690.043876090222,\n",
       " 7420.585607915474,\n",
       " 7603.219274831116,\n",
       " 7919.199767777935,\n",
       " 7552.903906111958,\n",
       " 8156.539095855311,\n",
       " 7757.614899393555,\n",
       " 7903.5001631524665,\n",
       " 8247.178665543965,\n",
       " 8556.830430230904,\n",
       " 8615.585442504445,\n",
       " 8283.967694492594,\n",
       " 8362.131185457327,\n",
       " 7889.516988976854,\n",
       " 8608.766157550563,\n",
       " 7759.716870898042,\n",
       " 7796.307010331993,\n",
       " 7981.206099765234,\n",
       " 7745.01852656769,\n",
       " 7283.872421230406,\n",
       " 7466.71892765833,\n",
       " 7491.147542216627,\n",
       " 7221.791796113957,\n",
       " 7870.641963962461,\n",
       " 7162.761401369161,\n",
       " 7509.456016429679,\n",
       " 7256.198097219946,\n",
       " 7629.164419882137,\n",
       " 6591.102564702119,\n",
       " 6646.997549907397,\n",
       " 6237.990327300855,\n",
       " 5988.5728734220575,\n",
       " 5920.226309034164,\n",
       " 5727.79694225713,\n",
       " 5841.325342684471,\n",
       " 5588.36048729992,\n",
       " 5642.0792140512185,\n",
       " 5541.262899174671,\n",
       " 5423.934324468024,\n",
       " 5250.8726416595155,\n",
       " 5312.845089655978,\n",
       " 5248.762439551398,\n",
       " 5216.131342583838,\n",
       " 5216.899414537487,\n",
       " 5261.564858290542,\n",
       " 5326.789795983692,\n",
       " 5051.65211100108,\n",
       " 5235.036015406081,\n",
       " 5339.711434633132,\n",
       " 5257.0459031523405,\n",
       " 5202.580562258449,\n",
       " 5278.995349478903,\n",
       " 5141.560690608327,\n",
       " 5057.383536667878,\n",
       " 5123.597017256189,\n",
       " 5076.011838803683,\n",
       " 4991.211675701469,\n",
       " 4951.768609079611,\n",
       " 5105.707713896842,\n",
       " 5032.076643095376,\n",
       " 4870.760339400171,\n",
       " 5103.146776117017,\n",
       " 5094.636620069037,\n",
       " 5058.27878741668,\n",
       " 5031.512934766171,\n",
       " 4924.742630098288,\n",
       " 4831.838729690263,\n",
       " 4214.616424004464,\n",
       " 4775.107803970799,\n",
       " 4175.514720696898,\n",
       " 4080.664545288761,\n",
       " 4071.163496413212,\n",
       " 4039.446058909038,\n",
       " 3953.5962583630085,\n",
       " 3975.253257845273,\n",
       " 3952.50626076917,\n",
       " 3975.2489794369503,\n",
       " 3927.5097228008826,\n",
       " 3963.680710185824,\n",
       " 3953.361248460255,\n",
       " 4021.959062984326,\n",
       " 3910.605994631268,\n",
       " 3981.5165668508885,\n",
       " 3984.88301682591,\n",
       " 3950.858450801303,\n",
       " 3930.0362150109017,\n",
       " 3899.0629848080957,\n",
       " 3884.7883946338325,\n",
       " 3795.043390218349,\n",
       " 3868.476712030203,\n",
       " 3861.303887998687,\n",
       " 3831.3877703541875,\n",
       " 3879.644424667543,\n",
       " 3909.4439170770443,\n",
       " 3778.9474181240485,\n",
       " 3743.7418342375004,\n",
       " 3803.517130434971,\n",
       " 3790.5978135913488,\n",
       " 3683.94165616394,\n",
       " 3831.5884200869145,\n",
       " 3765.4270029907275,\n",
       " 3774.9081178601577,\n",
       " 3851.0416538736517,\n",
       " 3665.0630308413024,\n",
       " 3767.672095799081,\n",
       " 3904.9478506733685,\n",
       " 3731.5806839140637,\n",
       " 3939.225491379052,\n",
       " 3950.767804228549,\n",
       " 3906.029858116675,\n",
       " 3718.363960177028,\n",
       " 3818.846118804889,\n",
       " 3625.183780343402,\n",
       " 3571.8444218267787,\n",
       " 3601.281973899527,\n",
       " 3616.2302574640194,\n",
       " 3611.638145719028,\n",
       " 3637.005055361993,\n",
       " 3595.5746997457104,\n",
       " 3591.0545669802805,\n",
       " 3403.3886725631046,\n",
       " 3651.0132684941727,\n",
       " 3407.9759270299587,\n",
       " 3459.4131586836957,\n",
       " 3366.7313632188066,\n",
       " 3430.553329252259,\n",
       " 3428.5421257399003,\n",
       " 3404.103411587682,\n",
       " 3472.475682061532,\n",
       " 3412.9974442822104,\n",
       " 3423.705206169212,\n",
       " 3420.6851442389598,\n",
       " 3434.349268276383,\n",
       " 3395.3226675191977,\n",
       " 3483.73249982236,\n",
       " 3582.3315065363654,\n",
       " 3575.182627582096,\n",
       " 3527.7845040928505,\n",
       " 3561.029991762281,\n",
       " 3431.454133045031,\n",
       " 3528.108682614191,\n",
       " 3448.14021016759,\n",
       " 3612.3524676256625,\n",
       " 3644.0981600934047,\n",
       " 3594.6171215275417,\n",
       " 3522.3793820526575,\n",
       " 3492.3719396064334,\n",
       " 3494.7522991762958,\n",
       " 3406.158026481615,\n",
       " 3607.730444061002,\n",
       " 3930.3028874340303,\n",
       " 3606.4391859336674,\n",
       " 3965.681420238599,\n",
       " 3783.0832904818794,\n",
       " 3912.777363401683,\n",
       " 3678.8257817281597,\n",
       " 3785.4256398111406,\n",
       " 3741.7756315067727,\n",
       " 3712.7234960165933,\n",
       " 3803.591351805076,\n",
       " 3688.890156691091,\n",
       " 3617.074918411651,\n",
       " 3517.6263520208645,\n",
       " 3685.779514750867,\n",
       " 3667.210047010397,\n",
       " 3617.9558709676708,\n",
       " 3920.259591016013,\n",
       " 3623.013230107497,\n",
       " 3835.230813883212,\n",
       " 3855.9144793380347,\n",
       " 3707.191016832145,\n",
       " 3787.5641240114114,\n",
       " 3526.0326863715063,\n",
       " 3502.4286726433666,\n",
       " 3433.8736755371224,\n",
       " 3159.74287991803,\n",
       " 3189.333320572587,\n",
       " 3217.3077481050977,\n",
       " 3270.790170732385,\n",
       " 3302.797275056818,\n",
       " 3480.9364447772223,\n",
       " 3367.124894982708,\n",
       " 3275.746816896213,\n",
       " 3345.2191531590734,\n",
       " 3471.730270680386,\n",
       " 3426.4519718770016,\n",
       " 3533.161706623111,\n",
       " 3865.193594174841,\n",
       " 4064.7545032480616,\n",
       " 3726.7942060664236,\n",
       " 4091.772110028097,\n",
       " 4039.1009517229186,\n",
       " 3668.5618969388584,\n",
       " 4015.5629358517094,\n",
       " 3916.330430616792,\n",
       " 3704.5457817382844,\n",
       " 3853.7510566572205,\n",
       " 3871.347389451183,\n",
       " 3811.3950604584616,\n",
       " 4186.821939750649,\n",
       " 4326.506286983136,\n",
       " 5027.527120405294,\n",
       " 4932.36551053921,\n",
       " 4721.865300144934,\n",
       " 5495.504776761218,\n",
       " 5384.924318638217,\n",
       " 5826.960274586305,\n",
       " 6053.577364992706,\n",
       " 5647.814150018293,\n",
       " 6361.452097504299,\n",
       " 6444.871986703738,\n",
       " 6332.975110809275,\n",
       " 6468.190012687624,\n",
       " 6411.555350875091,\n",
       " 6436.088081969086,\n",
       " 6518.598198578895,\n",
       " 6405.3778716454435,\n",
       " 6429.498929062764,\n",
       " 6377.439641902152,\n",
       " 6275.554332551092,\n",
       " 6312.285647223295,\n",
       " 6414.868435752275,\n",
       " 6297.621283552663,\n",
       " 6456.370684898603,\n",
       " 6313.013241743267,\n",
       " 6452.690078324399,\n",
       " 6451.05442256998,\n",
       " 6524.339535555812,\n",
       " 6500.63145022186,\n",
       " 6587.237420273702,\n",
       " 6541.250259292585,\n",
       " 6462.2873605852365,\n",
       " 6551.75210947956,\n",
       " 6494.261562142567,\n",
       " 6599.6574617802335,\n",
       " 6522.244479072278,\n",
       " 6407.590286867847,\n",
       " 6700.020406172897,\n",
       " 6294.213615218605,\n",
       " 6186.913180306785,\n",
       " 6244.688704298106,\n",
       " 6418.02511529613,\n",
       " 6262.111728948945,\n",
       " 6548.794579649593,\n",
       " 6647.525977705317,\n",
       " 6675.202540004601,\n",
       " 6495.963793077843,\n",
       " 6444.576834191054,\n",
       " 6381.8350285179495,\n",
       " 6139.274876028216,\n",
       " 6575.033400816255,\n",
       " 6463.986121445266,\n",
       " 6041.912681236159,\n",
       " 6533.370296476232,\n",
       " 6330.06827516078,\n",
       " 6410.540924751133,\n",
       " 6182.3449035354715,\n",
       " 6925.667274281586,\n",
       " 6079.840273078315,\n",
       " 6495.118891645465,\n",
       " 6505.5023852587165,\n",
       " 6481.619522775218,\n",
       " 6362.800574369419,\n",
       " 6450.137999088168,\n",
       " 6165.587431925302,\n",
       " 6361.28729414525,\n",
       " 6198.88593384409,\n",
       " 6308.838911968335,\n",
       " 6409.148826410348,\n",
       " 6364.739494373678,\n",
       " 6403.421841161859,\n",
       " 6255.19032971479,\n",
       " 6054.266850250119,\n",
       " 6153.144630443301,\n",
       " 6221.546465682039,\n",
       " 6147.756966169004,\n",
       " 6697.729081411687,\n",
       " 6817.934926412495,\n",
       " 6654.075563808738,\n",
       " 7178.972074230899,\n",
       " 7058.0331775077075,\n",
       " 6860.650177310627,\n",
       " 7127.11628561255,\n",
       " 6802.86712095861,\n",
       " 6720.183160052355,\n",
       " 6741.594368814426,\n",
       " 6823.069932761058,\n",
       " 6710.845418198123,\n",
       " 6414.325467245659,\n",
       " 6556.25280148199,\n",
       " 6417.5789904803,\n",
       " 6304.957613832768,\n",
       " 6294.705168302224,\n",
       " 6286.279803219893,\n",
       " 6229.212186316108,\n",
       " 6303.220315227213,\n",
       " 6273.387376363698,\n",
       " 6203.933368879301,\n",
       " 6049.431638787508,\n",
       " 6378.70927616556,\n",
       " 5847.093621744942,\n",
       " 5982.6726730301125,\n",
       " 6208.513537395657,\n",
       " 6113.935856943922,\n",
       " 6048.485358903035,\n",
       " 6632.956799821488,\n",
       " 6214.478679058075,\n",
       " 6663.242244598362,\n",
       " 6918.75610394225,\n",
       " 7211.199370460021,\n",
       " 7114.382000716251,\n",
       " 7306.380624719869,\n",
       " 7633.964790561035,\n",
       " 7607.780371277582,\n",
       " 7802.681543445543,\n",
       " 7818.395769753513,\n",
       " 7955.4830171104595,\n",
       " 8244.812945586864,\n",
       " 8001.052928666882,\n",
       " 7524.136128861802,\n",
       " 7758.703508880466,\n",
       " 7615.019027592262,\n",
       " 7279.777020257562,\n",
       " 7420.448364465562,\n",
       " 7278.68323339436,\n",
       " 7248.683953304732,\n",
       " 6809.326285865311,\n",
       " 6982.732380785801,\n",
       " 6542.916241571138,\n",
       " 6245.835918070054,\n",
       " 6119.512365256385,\n",
       " 6134.32366926601,\n",
       " 6289.106433778433,\n",
       " 6114.942948805797,\n",
       " 6569.785080299405,\n",
       " 6282.087960191206,\n",
       " 6454.343701009744,\n",
       " 6617.512674775452,\n",
       " 6524.9879182467375,\n",
       " 6454.267028629555,\n",
       " 6482.71372961036,\n",
       " 6213.430377973004,\n",
       " 6479.758987585079,\n",
       " 6126.699443874364,\n",
       " 5943.986457220497,\n",
       " 6230.076270428674,\n",
       " 5902.718776942867,\n",
       " 5826.017691814774,\n",
       " 5920.404844436088,\n",
       " 5781.401214477377,\n",
       " 6215.033385679607,\n",
       " 5768.033357106386,\n",
       " 6530.201854386141,\n",
       " 5797.3964175782785,\n",
       " 6672.315392992312,\n",
       " 6336.767096705611,\n",
       " 6697.0348799721,\n",
       " 6330.932773003904,\n",
       " 6422.033825609322,\n",
       " 6129.891604239038,\n",
       " 6142.109841535555,\n",
       " 6414.528684818775,\n",
       " 6113.614825847154,\n",
       " 6506.756802343982,\n",
       " 7246.3468276138,\n",
       " 6728.600903856928,\n",
       " 7543.029318805733,\n",
       " 7416.492988764499,\n",
       " 7538.703554456431,\n",
       " 7481.3138509549835,\n",
       " 7391.153170168346]"
      ]
     },
     "execution_count": 411,
     "metadata": {},
     "output_type": "execute_result"
    }
   ],
   "source": [
    "pr_undiff"
   ]
  },
  {
   "cell_type": "code",
   "execution_count": 412,
   "metadata": {},
   "outputs": [
    {
     "data": {
      "text/plain": [
       "<matplotlib.axes._subplots.AxesSubplot at 0x13a739048>"
      ]
     },
     "execution_count": 412,
     "metadata": {},
     "output_type": "execute_result"
    },
    {
     "data": {
      "image/png": "[encoded data removed]",
      "text/plain": [
       "<Figure size 432x288 with 1 Axes>"
      ]
     },
     "metadata": {
      "needs_background": "light"
     },
     "output_type": "display_data"
    }
   ],
   "source": [
    "sns.lineplot(data=df_low_train['Low'], label=\"original\")\n",
    "sns.lineplot(data=pd.Series(pr_undiff), label=\"predict\")"
   ]
  },
  {
   "cell_type": "code",
   "execution_count": 413,
   "metadata": {},
   "outputs": [],
   "source": [
    "f = best_arima.forecast(len(df_low_test.values))[0]"
   ]
  },
  {
   "cell_type": "code",
   "execution_count": 414,
   "metadata": {},
   "outputs": [
    {
     "data": {
      "text/plain": [
       "array([9877.19592283, 9859.888828  , 9739.76597792, 9674.93068709,\n",
       "       9764.96006384])"
      ]
     },
     "execution_count": 414,
     "metadata": {},
     "output_type": "execute_result"
    }
   ],
   "source": [
    "f"
   ]
  },
  {
   "cell_type": "code",
   "execution_count": 415,
   "metadata": {},
   "outputs": [
    {
     "data": {
      "text/plain": [
       "array([[Timestamp('2019-08-16 00:00:00'), 9788.6],\n",
       "       [Timestamp('2019-08-17 00:00:00'), 10016.3],\n",
       "       [Timestamp('2019-08-18 00:00:00'), 10086.7],\n",
       "       [Timestamp('2019-08-19 00:00:00'), 10267.8],\n",
       "       [Timestamp('2019-08-20 00:00:00'), 10581.0]], dtype=object)"
      ]
     },
     "execution_count": 415,
     "metadata": {},
     "output_type": "execute_result"
    }
   ],
   "source": [
    "df_low_test.values"
   ]
  },
  {
   "cell_type": "code",
   "execution_count": 416,
   "metadata": {},
   "outputs": [
    {
     "data": {
      "text/plain": [
       "<matplotlib.axes._subplots.AxesSubplot at 0x13a74d438>"
      ]
     },
     "execution_count": 416,
     "metadata": {},
     "output_type": "execute_result"
    },
    {
     "data": {
      "image/png": "[encoded data removed]",
      "text/plain": [
       "<Figure size 432x288 with 1 Axes>"
      ]
     },
     "metadata": {
      "needs_background": "light"
     },
     "output_type": "display_data"
    }
   ],
   "source": [
    "sns.lineplot(data=pd.Series(df_low_test['Low'].values), label=\"original\")\n",
    "sns.lineplot(data=pd.Series(f), label=\"predict\")"
   ]
  },
  {
   "cell_type": "code",
   "execution_count": 422,
   "metadata": {},
   "outputs": [],
   "source": [
    "f = best_arima.forecast(len(df_low_test.values) + 5)[0]"
   ]
  },
  {
   "cell_type": "code",
   "execution_count": 423,
   "metadata": {},
   "outputs": [
    {
     "data": {
      "text/html": [
       "<div>\n",
       "<style scoped>\n",
       "    .dataframe tbody tr th:only-of-type {\n",
       "        vertical-align: middle;\n",
       "    }\n",
       "\n",
       "    .dataframe tbody tr th {\n",
       "        vertical-align: top;\n",
       "    }\n",
       "\n",
       "    .dataframe thead th {\n",
       "        text-align: right;\n",
       "    }\n",
       "</style>\n",
       "<table border=\"1\" class=\"dataframe\">\n",
       "  <thead>\n",
       "    <tr style=\"text-align: right;\">\n",
       "      <th></th>\n",
       "      <th>0</th>\n",
       "      <th>1</th>\n",
       "    </tr>\n",
       "  </thead>\n",
       "  <tbody>\n",
       "    <tr>\n",
       "      <th>const</th>\n",
       "      <td>-0.050496</td>\n",
       "      <td>0.356836</td>\n",
       "    </tr>\n",
       "    <tr>\n",
       "      <th>ar.L1.D2.Low</th>\n",
       "      <td>1.069846</td>\n",
       "      <td>1.228594</td>\n",
       "    </tr>\n",
       "    <tr>\n",
       "      <th>ar.L2.D2.Low</th>\n",
       "      <td>-1.004708</td>\n",
       "      <td>-0.769612</td>\n",
       "    </tr>\n",
       "    <tr>\n",
       "      <th>ma.L1.D2.Low</th>\n",
       "      <td>-2.124124</td>\n",
       "      <td>-1.872332</td>\n",
       "    </tr>\n",
       "    <tr>\n",
       "      <th>ma.L2.D2.Low</th>\n",
       "      <td>1.343662</td>\n",
       "      <td>1.897329</td>\n",
       "    </tr>\n",
       "    <tr>\n",
       "      <th>ma.L3.D2.Low</th>\n",
       "      <td>-0.609213</td>\n",
       "      <td>-0.054951</td>\n",
       "    </tr>\n",
       "    <tr>\n",
       "      <th>ma.L4.D2.Low</th>\n",
       "      <td>-0.583490</td>\n",
       "      <td>-0.083576</td>\n",
       "    </tr>\n",
       "    <tr>\n",
       "      <th>ma.L5.D2.Low</th>\n",
       "      <td>-0.176299</td>\n",
       "      <td>0.286874</td>\n",
       "    </tr>\n",
       "    <tr>\n",
       "      <th>ma.L6.D2.Low</th>\n",
       "      <td>-0.125742</td>\n",
       "      <td>0.102117</td>\n",
       "    </tr>\n",
       "  </tbody>\n",
       "</table>\n",
       "</div>"
      ],
      "text/plain": [
       "                     0         1\n",
       "const        -0.050496  0.356836\n",
       "ar.L1.D2.Low  1.069846  1.228594\n",
       "ar.L2.D2.Low -1.004708 -0.769612\n",
       "ma.L1.D2.Low -2.124124 -1.872332\n",
       "ma.L2.D2.Low  1.343662  1.897329\n",
       "ma.L3.D2.Low -0.609213 -0.054951\n",
       "ma.L4.D2.Low -0.583490 -0.083576\n",
       "ma.L5.D2.Low -0.176299  0.286874\n",
       "ma.L6.D2.Low -0.125742  0.102117"
      ]
     },
     "execution_count": 423,
     "metadata": {},
     "output_type": "execute_result"
    }
   ],
   "source": [
    "best_arima.conf_int()"
   ]
  },
  {
   "cell_type": "code",
   "execution_count": 425,
   "metadata": {},
   "outputs": [
    {
     "data": {
      "text/plain": [
       "array([ 9875.52346647, 10029.31852032, 10105.09427097, 10086.22626185,\n",
       "       10027.92039732])"
      ]
     },
     "execution_count": 425,
     "metadata": {},
     "output_type": "execute_result"
    }
   ],
   "source": [
    "f[len(df_low_test.values):]"
   ]
  },
  {
   "cell_type": "code",
   "execution_count": null,
   "metadata": {},
   "outputs": [],
   "source": []
  },
  {
   "cell_type": "code",
   "execution_count": null,
   "metadata": {},
   "outputs": [],
   "source": []
  }
 ],
 "metadata": {
  "kernelspec": {
   "display_name": "Python 3",
   "language": "python",
   "name": "python3"
  },
  "language_info": {
   "codemirror_mode": {
    "name": "ipython",
    "version": 3
   },
   "file_extension": ".py",
   "mimetype": "text/x-python",
   "name": "python",
   "nbconvert_exporter": "python",
   "pygments_lexer": "ipython3",
   "version": "3.7.2"
  }
 },
 "nbformat": 4,
 "nbformat_minor": 2
}
